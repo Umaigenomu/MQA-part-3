{
 "cells": [
  {
   "cell_type": "code",
   "execution_count": 1,
   "metadata": {},
   "outputs": [
    {
     "name": "stderr",
     "output_type": "stream",
     "text": [
      "\n",
      "Attaching package: 'dplyr'\n",
      "\n",
      "The following objects are masked from 'package:stats':\n",
      "\n",
      "    filter, lag\n",
      "\n",
      "The following objects are masked from 'package:base':\n",
      "\n",
      "    intersect, setdiff, setequal, union\n",
      "\n",
      "dummies-1.5.6 provided by Decision Patterns\n",
      "\n",
      "Warning message:\n",
      "\"package 'ROCR' was built under R version 3.4.2\"Loading required package: gplots\n",
      "Warning message:\n",
      "\"package 'gplots' was built under R version 3.4.2\"\n",
      "Attaching package: 'gplots'\n",
      "\n",
      "The following object is masked from 'package:stats':\n",
      "\n",
      "    lowess\n",
      "\n",
      "Warning message:\n",
      "\"package 'caTools' was built under R version 3.4.2\""
     ]
    }
   ],
   "source": [
    "library(dplyr)\n",
    "library(dummies)\n",
    "library(ROCR)\n",
    "library(Metrics)\n",
    "library(caTools)"
   ]
  },
  {
   "cell_type": "code",
   "execution_count": 2,
   "metadata": {
    "collapsed": true
   },
   "outputs": [],
   "source": [
    "df<-read.csv(\"Car accidents.csv\")\n",
    "df<-na.omit(df)\n",
    "df$X <- NULL #inutil\n",
    "df$caseid<-NULL  #inutil\n",
    "df$dvcat<- as.character(df$dvcat)\n",
    "df$dvcat[df$dvcat == \"1-9km/h\"] <- \"1-9\"\n",
    "df$dvcat <- as.factor(df$dvcat)\n",
    "df$dead<- ifelse(df$dead == \"alive\",0,1)\n",
    "df$seatbelt<- ifelse(df$seatbelt == \"belted\",1,0)\n",
    "df$occRole<- ifelse(df$occRole == \"driver\",1,0)\n",
    "df$sex<-ifelse(df$sex == \"m\",1,0)"
   ]
  },
  {
   "cell_type": "code",
   "execution_count": 3,
   "metadata": {
    "collapsed": true
   },
   "outputs": [],
   "source": [
    "wghts<-df$weight\n",
    "df<-df%>%\n",
    "  select(-c(weight,airbag))"
   ]
  },
  {
   "cell_type": "markdown",
   "metadata": {
    "slideshow": {
     "slide_type": "slide"
    }
   },
   "source": [
    "**_dead_  - se a vítima morreu ou não.**\n",
    "\n",
    "_dvcat_ - velocidade do impacto estimado em km/h. **Dummy Variable** \n",
    " - 1-9 \n",
    " - 10-24\n",
    " - 25-39\n",
    " - 40-54\n",
    " - 55+\n",
    "\n",
    "_seatbelt_ - se a vítima observada estava com cinto ou não. \n",
    "\n",
    "_frontal_ - se o impacto da observação foi frontal ou não.\n",
    "\n",
    "_ageOFocc_ - a idade da pessoa envolvida no acidente em anos.\n",
    "\n",
    "_abcat_ - um ou mais airbags foram ativados(seja motorista ou passageiro)?.\n",
    " - deploy\n",
    " - no deploy \n",
    " - unavail\n",
    "\n",
    "_deploy_ - mesmo que abcat_deploy. **retiramos** \n",
    "\n",
    "_airbag_ - inverso de abcat_unavail. **retiramos** \n",
    "\n",
    "_injSeverity_ - severidade do ferimento da vítima observada, numérico. ** Dummy Variable**\n",
    " - 0: nenhum \n",
    " - 1: possivelmente ferido \n",
    " - 2: sem incapacitação no momento após o acidente\n",
    " - 3: incapacitado \n",
    " - 4: morto **mesmo que _dead_**\n",
    " - 5: desconhecido\n",
    " - 6: morte anterior (ao acidente). \n",
    " \n",
    "_weight_ - uma estimativa do inverso da probabilidade de seleção (Sample weights). **separamos a um vetor**\n",
    "\n",
    "_sex_ - sexo da vítima observada (f,m).\n",
    "\n",
    "_yearacc_ - ano em que o acidente ocorreu.\n",
    "\n",
    "_yearVeh_ - ano do modelo do carro. \n",
    "\n",
    "_occRole_ - papel do ocupante da observação (motorista ou passageiro).<br>"
   ]
  },
  {
   "cell_type": "code",
   "execution_count": 4,
   "metadata": {
    "collapsed": true
   },
   "outputs": [],
   "source": [
    "dumf<-dummy.data.frame(df,names=c('dvcat'),sep ='_')\n",
    "dumf<-dummy.data.frame(dumf,names=c('abcat'),sep='_')"
   ]
  },
  {
   "cell_type": "code",
   "execution_count": 5,
   "metadata": {
    "slideshow": {
     "slide_type": "slide"
    }
   },
   "outputs": [
    {
     "data": {
      "text/plain": [
       "\n",
       "\tPearson's Chi-squared test with Yates' continuity correction\n",
       "\n",
       "data:  2x2chiSq\n",
       "X-squared = 483.76, df = 1, p-value < 2.2e-16\n"
      ]
     },
     "metadata": {},
     "output_type": "display_data"
    }
   ],
   "source": [
    "`2x2chiSq`<-table(dumf$dead,dumf$seatbelt) \n",
    "chisq.test(`2x2chiSq`)"
   ]
  },
  {
   "cell_type": "markdown",
   "metadata": {
    "slideshow": {
     "slide_type": "slide"
    }
   },
   "source": [
    "$$log(\\frac{P_e}{1-P_e}) = \\beta_0 + \\beta_1X_1 + \\beta_2X_2 ...$$"
   ]
  },
  {
   "cell_type": "markdown",
   "metadata": {},
   "source": [
    "```R\n",
    "glm(y~intercept, family=\"binomial\") vs. glm(y~variable, family=\"binomial\")\n",
    "```"
   ]
  },
  {
   "cell_type": "markdown",
   "metadata": {
    "slideshow": {
     "slide_type": "slide"
    }
   },
   "source": [
    "<img src=\"LRT arredondado.png\">"
   ]
  },
  {
   "cell_type": "markdown",
   "metadata": {
    "slideshow": {
     "slide_type": "subslide"
    }
   },
   "source": [
    "$$ D=2\\cdot(LL_{alternativo} - LL_{intercepto (nulo)})\\sim \\chi_{df1-df2}^{2}$$"
   ]
  }
 ],
 "metadata": {
  "celltoolbar": "Slideshow",
  "kernelspec": {
   "display_name": "R",
   "language": "R",
   "name": "ir"
  },
  "language_info": {
   "codemirror_mode": "r",
   "file_extension": ".r",
   "mimetype": "text/x-r-source",
   "name": "R",
   "pygments_lexer": "r",
   "version": "3.4.1"
  }
 },
 "nbformat": 4,
 "nbformat_minor": 2
}
